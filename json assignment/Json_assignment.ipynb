{
  "nbformat": 4,
  "nbformat_minor": 0,
  "metadata": {
    "colab": {
      "name": "Json assignment",
      "provenance": [],
      "collapsed_sections": [],
      "toc_visible": true
    },
    "kernelspec": {
      "display_name": "Python 3",
      "name": "python3"
    }
  },
  "cells": [
    {
      "cell_type": "code",
      "metadata": {
        "id": "1GE9Sh1kvtGu",
        "colab_type": "code",
        "outputId": "696adc68-f0f4-46d3-91d5-ee9f1f41c231",
        "colab": {
          "base_uri": "https://localhost:8080/",
          "height": 34
        }
      },
      "source": [
        "import os, json\n",
        "import pandas as pd\n",
        "\n",
        "pathtojson = \"/content/Assignment\"\n",
        "jsonfiles = [pos_json for pos_json in os.listdir(pathtojson) if pos_json.endswith('.json')]\n",
        "print(jsonfiles) \n",
        "\n"
      ],
      "execution_count": 0,
      "outputs": [
        {
          "output_type": "stream",
          "text": [
            "['data1.json', 'data2.json', 'data3.json']\n"
          ],
          "name": "stdout"
        }
      ]
    },
    {
      "cell_type": "code",
      "metadata": {
        "id": "jZHIuF9Dv0K2",
        "colab_type": "code",
        "outputId": "86c3d42c-21b7-4097-91c1-50e76a9e41e5",
        "colab": {
          "base_uri": "https://localhost:8080/",
          "height": 54
        }
      },
      "source": [
        "\n",
        "data = {}\n",
        "data['strikers'] = []\n",
        "for i in jsonfiles:\n",
        "  with open('/content/Assignment/'+i) as json_file:\n",
        "    dataobj=json.load(json_file)\n",
        "    \n",
        "    data[\"strikers\"].extend(dataobj[\"strikers\"])\n",
        "with open('data.json', 'w') as outfile:\n",
        "    json.dump(data, outfile)\n",
        "with open('data.json') as json_file:\n",
        "  print(json.load(json_file))"
      ],
      "execution_count": 0,
      "outputs": [
        {
          "output_type": "stream",
          "text": [
            "{'strikers': [{'name': 'Alexis Sanchez', 'club': 'Manchester United'}, {'name': 'Robin van Persie', 'club': 'Feyenoord'}, {'name': 'Nicolas Pepe', 'club': 'Arsenal'}, {'name': 'Gonzalo Higuain', 'club': 'Napoli'}, {'name': 'Sunil Chettri', 'club': 'Bengaluru FC'}]}\n"
          ],
          "name": "stdout"
        }
      ]
    },
    {
      "cell_type": "code",
      "metadata": {
        "id": "OEHU9B3Sv-9J",
        "colab_type": "code",
        "colab": {}
      },
      "source": [
        ""
      ],
      "execution_count": 0,
      "outputs": []
    }
  ]
}